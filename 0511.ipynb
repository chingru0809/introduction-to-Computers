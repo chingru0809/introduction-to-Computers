{
  "nbformat": 4,
  "nbformat_minor": 0,
  "metadata": {
    "colab": {
      "name": "0511.ipynb",
      "provenance": [],
      "authorship_tag": "ABX9TyOwoSDs2hCEauCFK+X/13t9",
      "include_colab_link": true
    },
    "kernelspec": {
      "name": "python3",
      "display_name": "Python 3"
    },
    "language_info": {
      "name": "python"
    }
  },
  "cells": [
    {
      "cell_type": "markdown",
      "metadata": {
        "id": "view-in-github",
        "colab_type": "text"
      },
      "source": [
        "<a href=\"https://colab.research.google.com/github/chingru0809/introduction-to-Computers/blob/main/0511.ipynb\" target=\"_parent\"><img src=\"https://colab.research.google.com/assets/colab-badge.svg\" alt=\"Open In Colab\"/></a>"
      ]
    },
    {
      "cell_type": "code",
      "execution_count": 13,
      "metadata": {
        "colab": {
          "base_uri": "https://localhost:8080/"
        },
        "id": "L_FwPiwHMRQq",
        "outputId": "ff7fc557-87cb-403f-8949-322e2dd4d6f0"
      },
      "outputs": [
        {
          "output_type": "stream",
          "name": "stdout",
          "text": [
            "test\n"
          ]
        }
      ],
      "source": [
        "print(\"test\")"
      ]
    },
    {
      "cell_type": "code",
      "source": [
        "temp = float(input(\"請輸入你的體溫\"))\n",
        "if temp >= 37.5:\n",
        "  print(\"體溫過高!\")\n",
        "elif temp >= 37 and temp < 37.4:\n",
        "  print(\"體溫略高!\")\n",
        "elif temp >= 34 and temp < 36.9:\n",
        "  print(\"體溫正常!\")\n",
        "else:\n",
        "  print(\"體溫異常,請重新量測!\")"
      ],
      "metadata": {
        "colab": {
          "base_uri": "https://localhost:8080/"
        },
        "id": "c1s95CV2bTU_",
        "outputId": "3dfcd407-c8db-42cd-a696-6e4728a257ce"
      },
      "execution_count": 14,
      "outputs": [
        {
          "output_type": "stream",
          "name": "stdout",
          "text": [
            "請輸入你的體溫37.5\n",
            "體溫過高!\n"
          ]
        }
      ]
    },
    {
      "cell_type": "code",
      "source": [
        "money = int(input(\"請輸入購物金額:\"))\n",
        "if (money >= 10000):\n",
        "  if (money >= 100000):\n",
        "    print(\"八折\",money * 0.8,end = \"元\\n\")\n",
        "  elif (money >= 50000):\n",
        "    print(\"八五折\",money * 0.85,end = \"元\\n\")\n",
        "  elif (money >= 30000):\n",
        "    print(\"九折\",money * 0.9,end = \"元\\n\")\n",
        "  else:\n",
        "    print(\"九五折\",money * 0.95,end = \"元\\n\")\n",
        "else:\n",
        "  print(\"沒打折\",money,end = \"元\\n\")"
      ],
      "metadata": {
        "colab": {
          "base_uri": "https://localhost:8080/"
        },
        "id": "G005kdecd665",
        "outputId": "f6fc46ae-271b-44f4-db75-852d7a0d1249"
      },
      "execution_count": 15,
      "outputs": [
        {
          "output_type": "stream",
          "name": "stdout",
          "text": [
            "請輸入購物金額:50000\n",
            "八五折 42500.0元\n"
          ]
        }
      ]
    },
    {
      "cell_type": "code",
      "source": [
        "number = int(input(\"請輸入成績:\"))\n",
        "if ( number >= 90 ):\n",
        "  print(\"A\")\n",
        "elif ( number >= 80 and number < 89 ):\n",
        "  print(\"B\")\n",
        "elif ( number >= 70 and number < 79 ):\n",
        "  print(\"C\")\n",
        "elif ( number >= 60 and number < 69 ):\n",
        "  print(\"D\")\n",
        "else:\n",
        "  print(\"E\")"
      ],
      "metadata": {
        "colab": {
          "base_uri": "https://localhost:8080/"
        },
        "id": "I8Rpo422l2Pc",
        "outputId": "a87d7029-e71b-4fdc-884f-349693127750"
      },
      "execution_count": 16,
      "outputs": [
        {
          "output_type": "stream",
          "name": "stdout",
          "text": [
            "請輸入成績:90\n",
            "A\n"
          ]
        }
      ]
    },
    {
      "cell_type": "code",
      "source": [
        "number = int(input(\"請輸入成績:\"))\n",
        "if ( number >= 90 ):\n",
        "  print(\"A\")\n",
        "elif ( number >= 80 and number < 89 ):\n",
        "  print(\"B\")\n",
        "elif ( number >= 70 and number < 79 ):\n",
        "  print(\"C\")\n",
        "elif ( number >= 60 and number < 69 ):\n",
        "  print(\"D\")\n",
        "else:\n",
        "  print(\"E\")"
      ],
      "metadata": {
        "colab": {
          "base_uri": "https://localhost:8080/"
        },
        "id": "o433Ek_CoT3U",
        "outputId": "634e51aa-f3d8-4a73-b7d8-d4e1be0bc9b1"
      },
      "execution_count": 17,
      "outputs": [
        {
          "output_type": "stream",
          "name": "stdout",
          "text": [
            "請輸入成績:80\n",
            "B\n"
          ]
        }
      ]
    },
    {
      "cell_type": "code",
      "source": [
        "number = int(input(\"請輸入成績:\"))\n",
        "if ( number >= 90 ):\n",
        "  print(\"A\")\n",
        "elif ( number >= 80 and number < 89 ):\n",
        "  print(\"B\")\n",
        "elif ( number >= 70 and number < 79 ):\n",
        "  print(\"C\")\n",
        "elif ( number >= 60 and number < 69 ):\n",
        "  print(\"D\")\n",
        "else:\n",
        "  print(\"E\")"
      ],
      "metadata": {
        "colab": {
          "base_uri": "https://localhost:8080/"
        },
        "id": "p3PBdmrIoWVx",
        "outputId": "ee1b8c67-721a-4fc3-e842-8916562c44a9"
      },
      "execution_count": 18,
      "outputs": [
        {
          "output_type": "stream",
          "name": "stdout",
          "text": [
            "請輸入成績:50\n",
            "E\n"
          ]
        }
      ]
    },
    {
      "cell_type": "code",
      "source": [
        "month = int(input(\"請輸入月份:\"))\n",
        "if ( month in [3,4,5] ):\n",
        "  print(month,\"月是春天!\",sep=\" \")\n",
        "elif ( month in [6,7,8] ):\n",
        "  print(month,\"月是夏天!\",sep=\" \")\n",
        "elif ( month in [9,10,11] ):\n",
        "  print(month,\"月是秋天!\",sep=\" \")\n",
        "elif ( month in [12,1,2] ):\n",
        "  print(month,\"月是冬天!\",sep=\" \")\n",
        "else:\n",
        "  print(\"月份不在範圍內!\")"
      ],
      "metadata": {
        "colab": {
          "base_uri": "https://localhost:8080/"
        },
        "id": "VsMdPK7Bxka6",
        "outputId": "f9c4c8fa-c5ba-40e2-c889-736c6923b2c9"
      },
      "execution_count": 19,
      "outputs": [
        {
          "output_type": "stream",
          "name": "stdout",
          "text": [
            "請輸入月份:3\n",
            "3 月是春天!\n"
          ]
        }
      ]
    },
    {
      "cell_type": "code",
      "source": [
        "month = int(input(\"請輸入月份:\"))\n",
        "if ( month in [3,4,5] ):\n",
        "  print(month,\"月是春天!\",sep=\" \")\n",
        "elif ( month in [6,7,8] ):\n",
        "  print(month,\"月是夏天!\",sep=\" \")\n",
        "elif ( month in [9,10,11] ):\n",
        "  print(month,\"月是秋天!\",sep=\" \")\n",
        "elif ( month in [12,1,2] ):\n",
        "  print(month,\"月是冬天!\",sep=\" \")\n",
        "else:\n",
        "  print(\"月份不在範圍內!\")"
      ],
      "metadata": {
        "colab": {
          "base_uri": "https://localhost:8080/"
        },
        "id": "b05Bijk6zEHq",
        "outputId": "5d4efbc0-842d-46e3-ef37-3fb1ffc8ba84"
      },
      "execution_count": 20,
      "outputs": [
        {
          "output_type": "stream",
          "name": "stdout",
          "text": [
            "請輸入月份:8\n",
            "8 月是夏天!\n"
          ]
        }
      ]
    },
    {
      "cell_type": "code",
      "source": [
        "month = int(input(\"請輸入月份:\"))\n",
        "if ( month in [3,4,5] ):\n",
        "  print(month,\"月是春天!\",sep=\" \")\n",
        "elif ( month in [6,7,8] ):\n",
        "  print(month,\"月是夏天!\",sep=\" \")\n",
        "elif ( month in [9,10,11] ):\n",
        "  print(month,\"月是秋天!\",sep=\" \")\n",
        "elif ( month in [12,1,2] ):\n",
        "  print(month,\"月是冬天!\",sep=\" \")\n",
        "else:\n",
        "  print(\"月份不在範圍內!\")"
      ],
      "metadata": {
        "colab": {
          "base_uri": "https://localhost:8080/"
        },
        "id": "wNbDEivnzGHR",
        "outputId": "f961e42f-3769-43e2-868e-2b62c0f441ea"
      },
      "execution_count": 21,
      "outputs": [
        {
          "output_type": "stream",
          "name": "stdout",
          "text": [
            "請輸入月份:10\n",
            "10 月是秋天!\n"
          ]
        }
      ]
    },
    {
      "cell_type": "code",
      "source": [
        "month = int(input(\"請輸入月份:\"))\n",
        "if ( month in [3,4,5] ):\n",
        "  print(month,\"月是春天!\",sep=\" \")\n",
        "elif ( month in [6,7,8] ):\n",
        "  print(month,\"月是夏天!\",sep=\" \")\n",
        "elif ( month in [9,10,11] ):\n",
        "  print(month,\"月是秋天!\",sep=\" \")\n",
        "elif ( month in [12,1,2] ):\n",
        "  print(month,\"月是冬天!\",sep=\" \")\n",
        "else:\n",
        "  print(\"月份不在範圍內!\")"
      ],
      "metadata": {
        "colab": {
          "base_uri": "https://localhost:8080/"
        },
        "id": "sfKkseznzHvL",
        "outputId": "bd08aef8-856d-47fe-f6bf-c0e3d7ee7e4f"
      },
      "execution_count": 22,
      "outputs": [
        {
          "output_type": "stream",
          "name": "stdout",
          "text": [
            "請輸入月份:1\n",
            "1 月是冬天!\n"
          ]
        }
      ]
    },
    {
      "cell_type": "code",
      "source": [
        "month = int(input(\"請輸入月份:\"))\n",
        "if ( month in [3,4,5] ):\n",
        "  print(month,\"月是春天!\",sep=\" \")\n",
        "elif ( month in [6,7,8] ):\n",
        "  print(month,\"月是夏天!\",sep=\" \")\n",
        "elif ( month in [9,10,11] ):\n",
        "  print(month,\"月是秋天!\",sep=\" \")\n",
        "elif ( month in [12,1,2] ):\n",
        "  print(month,\"月是冬天!\",sep=\" \")\n",
        "else:\n",
        "  print(\"月份不在範圍內!\")"
      ],
      "metadata": {
        "colab": {
          "base_uri": "https://localhost:8080/"
        },
        "id": "Ym-0EzawzJL7",
        "outputId": "c221fe37-b074-4646-fe33-517e6e0105bc"
      },
      "execution_count": 23,
      "outputs": [
        {
          "output_type": "stream",
          "name": "stdout",
          "text": [
            "請輸入月份:13\n",
            "月份不在範圍內!\n"
          ]
        }
      ]
    },
    {
      "cell_type": "code",
      "source": [
        "income = int(input(\"請輸入今年收入淨額:\"))\n",
        "if ( income >= 300000 ):\n",
        "  if ( income >= 300000 and income < 600000 ):\n",
        "    print(\"付稅金額:\",income * 0.06,\"元\\n\")\n",
        "  elif ( income >= 600000 and income < 1000000 ):\n",
        "    print(\"付稅金額:\",income * 0.13,\"元\\n\")\n",
        "  elif ( income >= 1000000 and income < 2000000 ):\n",
        "    print(\"付稅金額:\",income * 0.21,\"元\\n\")\n",
        "  else:\n",
        "    print(\"付稅金額:\",income * 0.3,\"元\\n\")\n",
        "else:\n",
        "  print(\"付稅金額:0元\")"
      ],
      "metadata": {
        "colab": {
          "base_uri": "https://localhost:8080/"
        },
        "id": "aP2ZvEjpzLFP",
        "outputId": "d49d4f2f-8811-4eb1-9f96-a2cb98102b83"
      },
      "execution_count": 24,
      "outputs": [
        {
          "output_type": "stream",
          "name": "stdout",
          "text": [
            "請輸入今年收入淨額:100000\n",
            "付稅金額:0元\n"
          ]
        }
      ]
    },
    {
      "cell_type": "code",
      "source": [
        "income = int(input(\"請輸入今年收入淨額:\"))\n",
        "if ( income >= 300000 ):\n",
        "  if ( income >= 300000 and income < 600000 ):\n",
        "    print(\"付稅金額:\",income * 0.06,\"元\\n\")\n",
        "  elif ( income >= 600000 and income < 1000000 ):\n",
        "    print(\"付稅金額:\",income * 0.13,\"元\\n\")\n",
        "  elif ( income >= 1000000 and income < 2000000 ):\n",
        "    print(\"付稅金額:\",income * 0.21,\"元\\n\")\n",
        "  else:\n",
        "    print(\"付稅金額:\",income * 0.3,\"元\\n\")\n",
        "else:\n",
        "  print(\"付稅金額:0元\")"
      ],
      "metadata": {
        "colab": {
          "base_uri": "https://localhost:8080/"
        },
        "id": "Juyrd3Au1_VD",
        "outputId": "6b87da38-c679-4aa9-a7f0-6b05549ed7d3"
      },
      "execution_count": 25,
      "outputs": [
        {
          "output_type": "stream",
          "name": "stdout",
          "text": [
            "請輸入今年收入淨額:2000000\n",
            "付稅金額: 600000.0 元\n",
            "\n"
          ]
        }
      ]
    }
  ]
}