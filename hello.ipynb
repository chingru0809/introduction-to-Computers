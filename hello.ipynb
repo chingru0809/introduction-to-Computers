{
  "nbformat": 4,
  "nbformat_minor": 0,
  "metadata": {
    "colab": {
      "name": "hello.ipynb",
      "provenance": [],
      "authorship_tag": "ABX9TyNpJWaE7b5oAYmDEsg05chG",
      "include_colab_link": true
    },
    "kernelspec": {
      "name": "python3",
      "display_name": "Python 3"
    },
    "language_info": {
      "name": "python"
    }
  },
  "cells": [
    {
      "cell_type": "markdown",
      "metadata": {
        "id": "view-in-github",
        "colab_type": "text"
      },
      "source": [
        "<a href=\"https://colab.research.google.com/github/chingru0809/introduction-to-Computers/blob/main/hello.ipynb\" target=\"_parent\"><img src=\"https://colab.research.google.com/assets/colab-badge.svg\" alt=\"Open In Colab\"/></a>"
      ]
    },
    {
      "cell_type": "code",
      "execution_count": 1,
      "metadata": {
        "colab": {
          "base_uri": "https://localhost:8080/"
        },
        "id": "OdQkL7M90cjG",
        "outputId": "4b79149b-76a7-4c77-e793-91980ca3456c"
      },
      "outputs": [
        {
          "output_type": "stream",
          "name": "stdout",
          "text": [
            "hihi\n"
          ]
        }
      ],
      "source": [
        "print(\"hihi\")"
      ]
    },
    {
      "cell_type": "code",
      "source": [
        ""
      ],
      "metadata": {
        "id": "ET2OLj8r0e5K"
      },
      "execution_count": null,
      "outputs": []
    }
  ]
}