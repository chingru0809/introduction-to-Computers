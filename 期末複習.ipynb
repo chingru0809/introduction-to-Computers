{
  "nbformat": 4,
  "nbformat_minor": 0,
  "metadata": {
    "colab": {
      "name": "期末複習.ipynb",
      "provenance": [],
      "authorship_tag": "ABX9TyOmeUDgZq+KKme94i2+NRYj",
      "include_colab_link": true
    },
    "kernelspec": {
      "name": "python3",
      "display_name": "Python 3"
    },
    "language_info": {
      "name": "python"
    }
  },
  "cells": [
    {
      "cell_type": "markdown",
      "metadata": {
        "id": "view-in-github",
        "colab_type": "text"
      },
      "source": [
        "<a href=\"https://colab.research.google.com/github/chingru0809/introduction-to-Computers/blob/main/%E6%9C%9F%E6%9C%AB%E8%A4%87%E7%BF%92.ipynb\" target=\"_parent\"><img src=\"https://colab.research.google.com/assets/colab-badge.svg\" alt=\"Open In Colab\"/></a>"
      ]
    },
    {
      "cell_type": "code",
      "execution_count": null,
      "metadata": {
        "colab": {
          "base_uri": "https://localhost:8080/"
        },
        "id": "fCNbnnYj7Iov",
        "outputId": "faffa8ef-eaaf-43a3-8471-0bb0d3181e41"
      },
      "outputs": [
        {
          "output_type": "stream",
          "name": "stdout",
          "text": [
            "早安,\n",
            "同學好!\n",
            "打起精神來!!\n"
          ]
        }
      ],
      "source": [
        "print('早安,')\n",
        "print('同學好!')\n",
        "print('打起精神來!!')"
      ]
    },
    {
      "cell_type": "markdown",
      "source": [
        "sep(中間) end(結尾)　end＝＂＼ｎ＂換行"
      ],
      "metadata": {
        "id": "rDgKox1b7OWM"
      }
    },
    {
      "cell_type": "code",
      "source": [
        "print('早安','同學好','打起精神來!!!',sep='_')"
      ],
      "metadata": {
        "colab": {
          "base_uri": "https://localhost:8080/"
        },
        "id": "QZC542Dm7W2s",
        "outputId": "aee3055d-258a-4a67-8bc4-eb42199a15e1"
      },
      "execution_count": null,
      "outputs": [
        {
          "output_type": "stream",
          "name": "stdout",
          "text": [
            "早安_同學好_打起精神來!!!\n"
          ]
        }
      ]
    },
    {
      "cell_type": "code",
      "source": [
        "print('早上好','平安順心','健康如意^^',sep=',')"
      ],
      "metadata": {
        "colab": {
          "base_uri": "https://localhost:8080/"
        },
        "id": "812uyAbB7qrU",
        "outputId": "c6f53ac3-feb5-42d7-c90c-97d9d7118b50"
      },
      "execution_count": null,
      "outputs": [
        {
          "output_type": "stream",
          "name": "stdout",
          "text": [
            "早上好,平安順心,健康如意^^\n"
          ]
        }
      ]
    },
    {
      "cell_type": "code",
      "source": [
        "print('早安','同學好','打起精神來',sep='_',end='!!!')"
      ],
      "metadata": {
        "colab": {
          "base_uri": "https://localhost:8080/"
        },
        "id": "IRbCTfmM7sqr",
        "outputId": "fd038be4-734c-4d15-d464-edebc0322359"
      },
      "execution_count": null,
      "outputs": [
        {
          "output_type": "stream",
          "name": "stdout",
          "text": [
            "早安_同學好_打起精神來!!!"
          ]
        }
      ]
    },
    {
      "cell_type": "code",
      "source": [
        "print('早上好','平安順心','健康如意',sep=',',end='^^')"
      ],
      "metadata": {
        "colab": {
          "base_uri": "https://localhost:8080/"
        },
        "id": "97gicyCz7ue8",
        "outputId": "bdfda587-8266-4697-de60-82efe0ebfa17"
      },
      "execution_count": null,
      "outputs": [
        {
          "output_type": "stream",
          "name": "stdout",
          "text": [
            "早上好,平安順心,健康如意^^"
          ]
        }
      ]
    },
    {
      "cell_type": "markdown",
      "source": [
        "輸入今日日期"
      ],
      "metadata": {
        "id": "_yXlYTO--zJ2"
      }
    },
    {
      "cell_type": "code",
      "source": [
        "test3 = int(input('請輸入月份'))\n",
        "test4 = int(input('請輸入日期'))\n",
        "print('今天是',test3,'月',test4,'號',sep='')"
      ],
      "metadata": {
        "colab": {
          "base_uri": "https://localhost:8080/"
        },
        "id": "bVbvrTjm-3Q8",
        "outputId": "6ffb6c6e-2d88-4cdd-d68d-a0b3fe7e2317"
      },
      "execution_count": null,
      "outputs": [
        {
          "output_type": "stream",
          "name": "stdout",
          "text": [
            "請輸入月份８\n",
            "請輸入日期９\n",
            "今天是8月9號\n"
          ]
        }
      ]
    },
    {
      "cell_type": "markdown",
      "source": [
        "輸入成績並算出總分"
      ],
      "metadata": {
        "id": "T8-WLMe2_FsF"
      }
    },
    {
      "cell_type": "code",
      "source": [
        "test5 = int(input('請輸入國文成績:'))\n",
        "test6 = int(input('請輸入英文成績:'))\n",
        "test7 = int(input('請輸入數學成績:'))\n",
        "print('你的成績總分為:',test5+test6+test7,sep='\\n')"
      ],
      "metadata": {
        "colab": {
          "base_uri": "https://localhost:8080/"
        },
        "id": "FDOnbwL1_Mlz",
        "outputId": "0097465a-8bd4-46df-c082-86cba2b83117"
      },
      "execution_count": null,
      "outputs": [
        {
          "output_type": "stream",
          "name": "stdout",
          "text": [
            "請輸入國文成績:１０\n",
            "請輸入英文成績:２０\n",
            "請輸入數學成績:３０\n",
            "你的成績總分為:\n",
            "60\n"
          ]
        }
      ]
    },
    {
      "cell_type": "markdown",
      "source": [
        "梯形面積　%d整數　%0.1f小數點一位　%0.2f小數點兩位　%0.3f小數點三位"
      ],
      "metadata": {
        "id": "dTL-94mODujd"
      }
    },
    {
      "cell_type": "code",
      "source": [
        "上底=int(input('請輸入梯形上底長度:'))\n",
        "下底=int(input('請輸入梯形下底長度:'))\n",
        "高=int(input('請輸入梯形的高度:'))\n",
        "面積=(上底+下底)*高/2\n",
        "print('梯形上底長度為:',上底,'梯形下底長度:',下底,'梯形高度:',高,'梯形面積:',面積)\n",
        "print('梯形上底長度:%d,梯形下底長度:%d,梯形高度:%d,梯形面積:%d' %(上底,下底,高,面積)) \n",
        "print('梯形上底長度:%d,梯形下底長度:%d,梯形高度:%d,梯形面積:%f' %(上底,下底,高,面積)) \n",
        "print('梯形上底長度:%d,梯形下底長度:%d,梯形高度:%d,梯形面積:%0.1f' %(上底,下底,高,面積)) "
      ],
      "metadata": {
        "colab": {
          "base_uri": "https://localhost:8080/"
        },
        "id": "hl5ySSZUDwqO",
        "outputId": "f2d4904e-b794-4623-ac88-3736163981a2"
      },
      "execution_count": null,
      "outputs": [
        {
          "output_type": "stream",
          "name": "stdout",
          "text": [
            "請輸入梯形上底長度:３\n",
            "請輸入梯形下底長度:４\n",
            "請輸入梯形的高度:３\n",
            "梯形上底長度為: 3 梯形下底長度: 4 梯形高度: 3 梯形面積: 10.5\n",
            "梯形上底長度:3,梯形下底長度:4,梯形高度:3,梯形面積:10\n",
            "梯形上底長度:3,梯形下底長度:4,梯形高度:3,梯形面積:10.500000\n",
            "梯形上底長度:3,梯形下底長度:4,梯形高度:3,梯形面積:10.5\n"
          ]
        }
      ]
    },
    {
      "cell_type": "markdown",
      "source": [
        "ＢＭＩ公式"
      ],
      "metadata": {
        "id": "HT2e_jkVEeGd"
      }
    },
    {
      "cell_type": "code",
      "source": [
        "height=float(input(\"請輸入您的身高(cm):\"))\n",
        "weight=float(input(\"請輸入您的體重(kg):\"))\n",
        "bmi=weight/(height/100)**2\n",
        "print('身高 %d 公分,體重 %d 公斤,BMI值為 %0.2f' %(height,weight,bmi))"
      ],
      "metadata": {
        "colab": {
          "base_uri": "https://localhost:8080/"
        },
        "id": "6axuRc_wEaEP",
        "outputId": "894edcbf-cb26-4ec7-9191-730249d0a6f8"
      },
      "execution_count": null,
      "outputs": [
        {
          "output_type": "stream",
          "name": "stdout",
          "text": [
            "請輸入您的身高(cm):１８０\n",
            "請輸入您的體重(kg):８０\n",
            "身高 180 公分,體重 80 公斤,BMI值為 24.69\n"
          ]
        }
      ]
    },
    {
      "cell_type": "code",
      "source": [
        "deposit= int(input('請輸入本金存款金額:'))\n",
        "years=1.02**6\n",
        "deposit *= years\n",
        "print('6年後存款為:',deposit)"
      ],
      "metadata": {
        "colab": {
          "base_uri": "https://localhost:8080/"
        },
        "id": "5L67x5e1nbJC",
        "outputId": "619f142f-4a7a-492b-b6a1-77ee1c7436b8"
      },
      "execution_count": null,
      "outputs": [
        {
          "output_type": "stream",
          "name": "stdout",
          "text": [
            "請輸入本金存款金額:10000\n",
            "6年後存款為: 11261.62419264\n"
          ]
        }
      ]
    },
    {
      "cell_type": "markdown",
      "source": [
        "if else 用法"
      ],
      "metadata": {
        "id": "DLu0oWV5nplf"
      }
    },
    {
      "cell_type": "code",
      "source": [
        "pw = input ('請輸入密碼')\n",
        "if (pw == '1234'):\n",
        "  print('歡迎光臨!')"
      ],
      "metadata": {
        "colab": {
          "base_uri": "https://localhost:8080/"
        },
        "id": "aqySQsRQnoiZ",
        "outputId": "181efdb2-d29c-4bc5-face-23804842d917"
      },
      "execution_count": null,
      "outputs": [
        {
          "output_type": "stream",
          "name": "stdout",
          "text": [
            "請輸入密碼1234\n",
            "歡迎光臨!\n"
          ]
        }
      ]
    },
    {
      "cell_type": "code",
      "source": [
        "pw = input ('請輸入密碼')\n",
        "if (pw == '1234'):\n",
        "  print('歡迎光臨!')\n",
        "else:\n",
        "  print(\"密碼錯誤!\")"
      ],
      "metadata": {
        "colab": {
          "base_uri": "https://localhost:8080/"
        },
        "id": "LDOBoBsgns1i",
        "outputId": "8191e96d-38a1-415b-ac4f-b5a8caf25cb3"
      },
      "execution_count": null,
      "outputs": [
        {
          "output_type": "stream",
          "name": "stdout",
          "text": [
            "請輸入密碼1111\n",
            "密碼錯誤!\n"
          ]
        }
      ]
    },
    {
      "cell_type": "code",
      "source": [
        "rain = input(\"今天會下雨嗎?\")\n",
        "if(rain==\"Y\" or rain==\"y\"):\n",
        "  print(\"出門記得帶傘!\")"
      ],
      "metadata": {
        "colab": {
          "base_uri": "https://localhost:8080/"
        },
        "id": "ALYxp872n2Lg",
        "outputId": "bc7bcd27-097e-437e-d7c6-84c545d994f7"
      },
      "execution_count": null,
      "outputs": [
        {
          "output_type": "stream",
          "name": "stdout",
          "text": [
            "今天會下雨嗎?y\n",
            "出門記得帶傘!\n"
          ]
        }
      ]
    },
    {
      "cell_type": "code",
      "source": [
        "rain = input(\"今天會下雨嗎?\")\n",
        "if(rain==\"Y\" or rain==\"y\"):\n",
        "  print(\"出門記得帶傘!\")\n",
        "else: \n",
        "  print(\"不用帶傘!\")"
      ],
      "metadata": {
        "colab": {
          "base_uri": "https://localhost:8080/"
        },
        "id": "21ybWY49n5rA",
        "outputId": "2d9d3e85-ba7b-47df-faed-149df21f8f65"
      },
      "execution_count": null,
      "outputs": [
        {
          "output_type": "stream",
          "name": "stdout",
          "text": [
            "今天會下雨嗎?n\n",
            "不用帶傘!\n"
          ]
        }
      ]
    },
    {
      "cell_type": "markdown",
      "source": [
        "期中題目"
      ],
      "metadata": {
        "id": "GPilIyjrDJSn"
      }
    },
    {
      "cell_type": "markdown",
      "source": [
        "請設計一個判斷 “偶數”/“奇數”的程式"
      ],
      "metadata": {
        "id": "6LMDNMUkDQvT"
      }
    },
    {
      "cell_type": "code",
      "source": [
        "num1 = int(input('請輸入正整數:'))\n",
        "if (num1%2)==0:\n",
        "  print(num1,'是偶數!',sep='') \n",
        "else:\n",
        "  print(num1,'是奇數!',sep='')\n",
        "num2 = int(input('請輸入正整數:'))\n",
        "if (num2%2)==0:\n",
        "  print(num2,'是偶數!',sep='')\n",
        "else:\n",
        "  print(num2,'是奇數!',sep='')"
      ],
      "metadata": {
        "colab": {
          "base_uri": "https://localhost:8080/"
        },
        "id": "askc7Ox0DIpj",
        "outputId": "8d895b53-5463-4bbe-f1ff-e2751107c4ac"
      },
      "execution_count": null,
      "outputs": [
        {
          "output_type": "stream",
          "name": "stdout",
          "text": [
            "請輸入正整數:50\n",
            "50是偶數!\n",
            "請輸入正整數:51\n",
            "51是奇數!\n"
          ]
        }
      ]
    },
    {
      "cell_type": "markdown",
      "source": [
        "請設計一個判斷體溫的程式，當體溫高於37.5或小於36，顯示 “體溫異常，請重新量測!”，體溫介於36~37.5間顯示\"體溫正常，請進校園!\""
      ],
      "metadata": {
        "id": "9AKlUYHeDcbb"
      }
    },
    {
      "cell_type": "code",
      "source": [
        "temperature = float(input('請輸入你的體溫'))\n",
        "if (temperature>37.5 or temperature<36):\n",
        "  print('體溫異常,請重新量測!')\n",
        "else:\n",
        "  print('體溫正常,請進校園!')\n",
        "\n",
        "temperature2 = float(input('請輸入你的體溫'))\n",
        "if (temperature2>37.5 or temperature2<36):\n",
        "  print('體溫異常,請重新量測!')\n",
        "else:\n",
        "  print('體溫正常,請進校園!')"
      ],
      "metadata": {
        "id": "IttKJnR2DdX2",
        "outputId": "bcaa251d-74b8-4210-ebd8-3085ac9349d6",
        "colab": {
          "base_uri": "https://localhost:8080/"
        }
      },
      "execution_count": null,
      "outputs": [
        {
          "output_type": "stream",
          "name": "stdout",
          "text": [
            "請輸入你的體溫34\n",
            "體溫異常,請重新量測!\n",
            "請輸入你的體溫37.4\n",
            "體溫正常,請進校園!\n"
          ]
        }
      ]
    },
    {
      "cell_type": "markdown",
      "source": [
        "if elif else 用法"
      ],
      "metadata": {
        "id": "bSZ_idItoVHn"
      }
    },
    {
      "cell_type": "code",
      "source": [
        "temp = float(input(\"請輸入你的體溫\"))\n",
        "if temp >= 37.5:\n",
        "  print(\"體溫過高!\")\n",
        "elif temp >= 37 and temp < 37.4:\n",
        "  print(\"體溫略高!\")\n",
        "elif temp >= 34 and temp < 36.9:\n",
        "  print(\"體溫正常!\")\n",
        "else:\n",
        "  print(\"體溫異常,請重新量測!\")"
      ],
      "metadata": {
        "colab": {
          "base_uri": "https://localhost:8080/"
        },
        "id": "2BNkriTQocU5",
        "outputId": "693e9861-a139-4e57-9675-603b358e5168"
      },
      "execution_count": null,
      "outputs": [
        {
          "output_type": "stream",
          "name": "stdout",
          "text": [
            "請輸入你的體溫37.5\n",
            "體溫過高!\n"
          ]
        }
      ]
    },
    {
      "cell_type": "code",
      "source": [
        "money = int(input(\"請輸入購物金額:\"))\n",
        "if (money >= 10000):\n",
        "  if (money >= 100000):\n",
        "    print(\"八折\",money * 0.8,end = \"元\\n\")\n",
        "  elif (money >= 50000):\n",
        "    print(\"八五折\",money * 0.85,end = \"元\\n\")\n",
        "  elif (money >= 30000):\n",
        "    print(\"九折\",money * 0.9,end = \"元\\n\")\n",
        "  else:\n",
        "    print(\"九五折\",money * 0.95,end = \"元\\n\")\n",
        "else:\n",
        "  print(\"沒打折\",money,end = \"元\\n\")"
      ],
      "metadata": {
        "colab": {
          "base_uri": "https://localhost:8080/"
        },
        "id": "I4YQWJ9erypT",
        "outputId": "bec55a2d-2a60-4576-c994-b04e2c0d9382"
      },
      "execution_count": null,
      "outputs": [
        {
          "output_type": "stream",
          "name": "stdout",
          "text": [
            "請輸入購物金額:50000\n",
            "八五折 42500.0元\n"
          ]
        }
      ]
    },
    {
      "cell_type": "code",
      "source": [
        "month = int(input(\"請輸入月份:\"))\n",
        "if ( month in [3,4,5] ):\n",
        "  print(month,\"月是春天!\",sep=\" \")\n",
        "elif ( month in [6,7,8] ):\n",
        "  print(month,\"月是夏天!\",sep=\" \")\n",
        "elif ( month in [9,10,11] ):\n",
        "  print(month,\"月是秋天!\",sep=\" \")\n",
        "elif ( month in [12,1,2] ):\n",
        "  print(month,\"月是冬天!\",sep=\" \")\n",
        "else:\n",
        "  print(\"月份不在範圍內!\")"
      ],
      "metadata": {
        "colab": {
          "base_uri": "https://localhost:8080/"
        },
        "id": "dvdvPR9Xr9C4",
        "outputId": "5152caa1-ff03-46c9-ecc9-52e9bf03baa9"
      },
      "execution_count": null,
      "outputs": [
        {
          "output_type": "stream",
          "name": "stdout",
          "text": [
            "請輸入月份:6\n",
            "6 月是夏天!\n"
          ]
        }
      ]
    },
    {
      "cell_type": "markdown",
      "source": [
        "數列變數= range（整數值）  數列變數 = range（起始值，終止值）  數列變數 = range（起始值，終止值，間隔值）"
      ],
      "metadata": {
        "id": "_EAIn7yws7Uf"
      }
    },
    {
      "cell_type": "code",
      "source": [
        "for n in range(3):\n",
        "  print(n,end = \",\")"
      ],
      "metadata": {
        "colab": {
          "base_uri": "https://localhost:8080/"
        },
        "id": "tl5tf0Tttext",
        "outputId": "44ec38de-5022-4d3b-9d76-617c0a529ef1"
      },
      "execution_count": null,
      "outputs": [
        {
          "output_type": "stream",
          "name": "stdout",
          "text": [
            "0,1,2,"
          ]
        }
      ]
    },
    {
      "cell_type": "code",
      "source": [
        "test = int(input(\"請輸入一個正整數:\"))\n",
        "for m in range(1,test+1):\n",
        "  print(m,end = \" \")"
      ],
      "metadata": {
        "colab": {
          "base_uri": "https://localhost:8080/"
        },
        "id": "FqXYt1uXtvTi",
        "outputId": "b815b721-1520-4f5e-e874-d3bc52c336df"
      },
      "execution_count": null,
      "outputs": [
        {
          "output_type": "stream",
          "name": "stdout",
          "text": [
            "請輸入一個正整數:7\n",
            "1 2 3 4 5 6 7 "
          ]
        }
      ]
    },
    {
      "cell_type": "code",
      "source": [
        "test = int(input(\"請輸入一個正整數:\"))\n",
        "for m in range(1,test+1,2):\n",
        "  print(m,end = \" \")"
      ],
      "metadata": {
        "colab": {
          "base_uri": "https://localhost:8080/"
        },
        "id": "COynZJUBtLJi",
        "outputId": "af4f6885-87f9-48da-d4f8-8f5d01520753"
      },
      "execution_count": null,
      "outputs": [
        {
          "output_type": "stream",
          "name": "stdout",
          "text": [
            "請輸入一個正整數:10\n",
            "1 3 5 7 9 "
          ]
        }
      ]
    },
    {
      "cell_type": "markdown",
      "source": [
        "從1加到10"
      ],
      "metadata": {
        "id": "jpAC2wtVvJ6l"
      }
    },
    {
      "cell_type": "code",
      "source": [
        "test = int(input(\"請輸入一個正整數:\"))\n",
        "sum = 0\n",
        "for n in range(test+1):\n",
        "  sum = sum + n\n",
        "print(\"1到\",test,\"的整數和為\",sum)"
      ],
      "metadata": {
        "colab": {
          "base_uri": "https://localhost:8080/"
        },
        "id": "dyfDJaJIvIEC",
        "outputId": "79a5e3f9-e4b3-40f1-e844-76fd5a10ef18"
      },
      "execution_count": null,
      "outputs": [
        {
          "output_type": "stream",
          "name": "stdout",
          "text": [
            "請輸入一個正整數:10\n",
            "1到 10 的整數和為 55\n"
          ]
        }
      ]
    },
    {
      "cell_type": "markdown",
      "source": [
        "用range設計一個簡易的數列 使用者只要輸入一個正整數程式就會列出由1加總到該整數的整數數列"
      ],
      "metadata": {
        "id": "_S0IVRvyvYk2"
      }
    },
    {
      "cell_type": "code",
      "source": [
        "sum = 0\n",
        "test = int(input(\"請輸入一個正整數:\"))\n",
        "for m in range(1,test+1):\n",
        "  sum = sum+m\n",
        "  print(\"1到\",str(m),\"的整數和為\",sum)"
      ],
      "metadata": {
        "colab": {
          "base_uri": "https://localhost:8080/"
        },
        "id": "qm6Ub_5lvcRi",
        "outputId": "6f575729-f333-4e58-8073-02f3e8572822"
      },
      "execution_count": null,
      "outputs": [
        {
          "output_type": "stream",
          "name": "stdout",
          "text": [
            "請輸入一個正整數:10\n",
            "1到 1 的整數和為 1\n",
            "1到 2 的整數和為 3\n",
            "1到 3 的整數和為 6\n",
            "1到 4 的整數和為 10\n",
            "1到 5 的整數和為 15\n",
            "1到 6 的整數和為 21\n",
            "1到 7 的整數和為 28\n",
            "1到 8 的整數和為 36\n",
            "1到 9 的整數和為 45\n",
            "1到 10 的整數和為 55\n"
          ]
        }
      ]
    },
    {
      "cell_type": "code",
      "source": [
        "for j in range(1,5):\n",
        "  print(j)\n",
        "  for i in range(1,3):\n",
        "    k =i*j\n",
        "    print(j,'*',i,'=',k)"
      ],
      "metadata": {
        "colab": {
          "base_uri": "https://localhost:8080/"
        },
        "id": "DwP21S6HBkOG",
        "outputId": "6ecf9a26-7100-431d-fb89-27727e365a98"
      },
      "execution_count": null,
      "outputs": [
        {
          "output_type": "stream",
          "name": "stdout",
          "text": [
            "1\n",
            "1 * 1 = 1\n",
            "1 * 2 = 2\n",
            "2\n",
            "2 * 1 = 2\n",
            "2 * 2 = 4\n",
            "3\n",
            "3 * 1 = 3\n",
            "3 * 2 = 6\n",
            "4\n",
            "4 * 1 = 4\n",
            "4 * 2 = 8\n"
          ]
        }
      ]
    },
    {
      "cell_type": "markdown",
      "source": [
        "1到5 數到4 就要停下來(break) 再把i顯示出來"
      ],
      "metadata": {
        "id": "TRNfavMJBv-V"
      }
    },
    {
      "cell_type": "code",
      "source": [
        "for i in range(1,5):\n",
        "  if (i==4):\n",
        "    break\n",
        "  print(i,end=' ')"
      ],
      "metadata": {
        "colab": {
          "base_uri": "https://localhost:8080/"
        },
        "id": "jokvms3rB7Tb",
        "outputId": "dd549e4b-22e2-43c9-9de1-18e30e975c43"
      },
      "execution_count": null,
      "outputs": [
        {
          "output_type": "stream",
          "name": "stdout",
          "text": [
            "1 2 3 "
          ]
        }
      ]
    },
    {
      "cell_type": "markdown",
      "source": [
        "到o就要停下來"
      ],
      "metadata": {
        "id": "Zf1Gqn_UCVc0"
      }
    },
    {
      "cell_type": "code",
      "source": [
        "count = 0\n",
        "for string in 'hello':\n",
        "  count+=1\n",
        "  if string == 'o':\n",
        "    break\n",
        "  print(string)"
      ],
      "metadata": {
        "colab": {
          "base_uri": "https://localhost:8080/"
        },
        "id": "Lw-Z2rXSCQcb",
        "outputId": "7e3b69c7-b870-47cc-c970-78412e2d49a4"
      },
      "execution_count": null,
      "outputs": [
        {
          "output_type": "stream",
          "name": "stdout",
          "text": [
            "h\n",
            "e\n",
            "l\n",
            "l\n"
          ]
        }
      ]
    },
    {
      "cell_type": "markdown",
      "source": [
        "到o就要停下來並計算迴圈做了幾次"
      ],
      "metadata": {
        "id": "fsNg83w4Cgxd"
      }
    },
    {
      "cell_type": "code",
      "source": [
        "count = 0\n",
        "for string in 'hello':\n",
        "  count+=1\n",
        "  if string == 'o':\n",
        "    break\n",
        "  print(string)\n",
        "print('迴圈結束')\n",
        "print('迴圈執行了 %d 次' %count)"
      ],
      "metadata": {
        "colab": {
          "base_uri": "https://localhost:8080/"
        },
        "id": "FIeLCpbTCa-c",
        "outputId": "0e29c5d3-52c0-4f88-f54b-dfa41d94b721"
      },
      "execution_count": null,
      "outputs": [
        {
          "output_type": "stream",
          "name": "stdout",
          "text": [
            "h\n",
            "e\n",
            "l\n",
            "l\n",
            "迴圈結束\n",
            "迴圈執行了 5 次\n"
          ]
        }
      ]
    },
    {
      "cell_type": "markdown",
      "source": [
        "九九乘法表"
      ],
      "metadata": {
        "id": "XEZPLBePCvTW"
      }
    },
    {
      "cell_type": "code",
      "source": [
        "for i in range(2,10):\n",
        "  for j in range(1,10):\n",
        "    product = i * j\n",
        "    print(\"%d*%d=%2d\" %(i,j,product),end=\" \")\n",
        "  print()"
      ],
      "metadata": {
        "colab": {
          "base_uri": "https://localhost:8080/"
        },
        "id": "7dQ9l1RtCyUk",
        "outputId": "c8c63dab-dad5-4012-d90b-147953334d54"
      },
      "execution_count": null,
      "outputs": [
        {
          "output_type": "stream",
          "name": "stdout",
          "text": [
            "2*1= 2 2*2= 4 2*3= 6 2*4= 8 2*5=10 2*6=12 2*7=14 2*8=16 2*9=18 \n",
            "3*1= 3 3*2= 6 3*3= 9 3*4=12 3*5=15 3*6=18 3*7=21 3*8=24 3*9=27 \n",
            "4*1= 4 4*2= 8 4*3=12 4*4=16 4*5=20 4*6=24 4*7=28 4*8=32 4*9=36 \n",
            "5*1= 5 5*2=10 5*3=15 5*4=20 5*5=25 5*6=30 5*7=35 5*8=40 5*9=45 \n",
            "6*1= 6 6*2=12 6*3=18 6*4=24 6*5=30 6*6=36 6*7=42 6*8=48 6*9=54 \n",
            "7*1= 7 7*2=14 7*3=21 7*4=28 7*5=35 7*6=42 7*7=49 7*8=56 7*9=63 \n",
            "8*1= 8 8*2=16 8*3=24 8*4=32 8*5=40 8*6=48 8*7=56 8*8=64 8*9=72 \n",
            "9*1= 9 9*2=18 9*3=27 9*4=36 9*5=45 9*6=54 9*7=63 9*8=72 9*9=81 \n"
          ]
        }
      ]
    },
    {
      "cell_type": "markdown",
      "source": [
        "最小公倍數"
      ],
      "metadata": {
        "id": "xXjCaVDYC4B7"
      }
    },
    {
      "cell_type": "code",
      "source": [
        "a = int(input(\"請輸入a的值:\"))\n",
        "b = int(input(\"請輸入b的值:\"))\n",
        "\n",
        "maxno = a * b\n",
        "for i in range(1,maxno+1):\n",
        "  if ( i % a == 0 and i % b == 0 ):\n",
        "    break\n",
        "print(\"%d和%d的最小公倍數=%d\" %(a,b,i))"
      ],
      "metadata": {
        "colab": {
          "base_uri": "https://localhost:8080/"
        },
        "id": "wXs0GxefC3fm",
        "outputId": "a9d95ee8-fe10-49a6-cae2-494ae3d0d940"
      },
      "execution_count": null,
      "outputs": [
        {
          "output_type": "stream",
          "name": "stdout",
          "text": [
            "請輸入a的值:5\n",
            "請輸入b的值:4\n",
            "5和4的最小公倍數=20\n"
          ]
        }
      ]
    }
  ]
}